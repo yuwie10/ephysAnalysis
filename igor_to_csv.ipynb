{
 "cells": [
  {
   "cell_type": "code",
   "execution_count": 1,
   "metadata": {
    "collapsed": false
   },
   "outputs": [
    {
     "name": "stderr",
     "output_type": "stream",
     "text": [
      "\n",
      "Attaching package: ‘magrittr’\n",
      "\n",
      "The following object is masked from ‘package:purrr’:\n",
      "\n",
      "    set_names\n",
      "\n"
     ]
    }
   ],
   "source": [
    "library(IgorR)\n",
    "library(purrr)\n",
    "library(magrittr)\n",
    "\n",
    "##Convert raw Igor file to csv for python\n",
    "\n",
    "#Fxn to annotate data\n",
    "toSplitData <- function(ts) {\n",
    "  df <- data.frame(pA = c(ts), sec = c(time(ts)), id = attr(ts, \"WaveHeader\")$WaveName)\n",
    "  df$id <- as.character(df$id)\n",
    "  return(df)\n",
    "}\n",
    "\n",
    "#Fxn to stack list\n",
    "listToDataFrame <- function(tracesList) {\n",
    "  df <- data.frame(\n",
    "    id = unlist(lapply(tracesList, \"[[\", \"id\")),\n",
    "    sec = unlist(lapply(tracesList, \"[[\", \"sec\")),\n",
    "    pA = unlist(lapply(tracesList, \"[[\", \"pA\"))\n",
    "  )\n",
    "  df$id <- as.character(df$id)\n",
    "  return(df)\n",
    "}\n",
    "\n",
    "\n",
    "#convert igor file to list of ts\n",
    "rawData <- read.pxp(\"/Volumes/lab_data_2/2017.03.15_YW\", regex = \"w.\", ReturnTimeSeries = TRUE)\n",
    "#remove vars sublist\n",
    "rawData <- rawData[-1]\n",
    "\n",
    "#create data frame with sec, pA, id\n",
    "dfWaves <- purrr::map(rawData, toSplitData) %>%\n",
    "  listToDataFrame()\n",
    "\n",
    "write.csv(dfWaves, file = \"/Volumes/lab_data_2/2017.03.15.csv\")"
   ]
  }
 ],
 "metadata": {
  "kernelspec": {
   "display_name": "R",
   "language": "R",
   "name": "ir"
  },
  "language_info": {
   "codemirror_mode": "r",
   "file_extension": ".r",
   "mimetype": "text/x-r-source",
   "name": "R",
   "pygments_lexer": "r",
   "version": "3.3.2"
  }
 },
 "nbformat": 4,
 "nbformat_minor": 2
}
