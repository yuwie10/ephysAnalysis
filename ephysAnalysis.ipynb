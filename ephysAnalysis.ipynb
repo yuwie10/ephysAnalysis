{
 "cells": [
  {
   "cell_type": "code",
   "execution_count": 1,
   "metadata": {
    "collapsed": false
   },
   "outputs": [],
   "source": [
    "# loading libraries\n",
    "import igor.igorpy as igor\n",
    "import matplotlib.pyplot as plt\n",
    "import pandas as pd\n",
    "import numpy as np"
   ]
  },
  {
   "cell_type": "code",
   "execution_count": 100,
   "metadata": {
    "collapsed": false
   },
   "outputs": [
    {
     "data": {
      "text/html": [
       "<div>\n",
       "<table border=\"1\" class=\"dataframe\">\n",
       "  <thead>\n",
       "    <tr style=\"text-align: right;\">\n",
       "      <th></th>\n",
       "      <th>waveNum</th>\n",
       "      <th>waveName</th>\n",
       "      <th>stimInt</th>\n",
       "      <th>notes</th>\n",
       "    </tr>\n",
       "  </thead>\n",
       "  <tbody>\n",
       "    <tr>\n",
       "      <th>77</th>\n",
       "      <td>66</td>\n",
       "      <td>w77</td>\n",
       "      <td>600.0</td>\n",
       "      <td>y</td>\n",
       "    </tr>\n",
       "    <tr>\n",
       "      <th>78</th>\n",
       "      <td>67</td>\n",
       "      <td>w78</td>\n",
       "      <td>800.0</td>\n",
       "      <td>y</td>\n",
       "    </tr>\n",
       "    <tr>\n",
       "      <th>79</th>\n",
       "      <td>68</td>\n",
       "      <td>w79</td>\n",
       "      <td>800.0</td>\n",
       "      <td>y</td>\n",
       "    </tr>\n",
       "    <tr>\n",
       "      <th>80</th>\n",
       "      <td>69</td>\n",
       "      <td>w80</td>\n",
       "      <td>1000.0</td>\n",
       "      <td>y</td>\n",
       "    </tr>\n",
       "    <tr>\n",
       "      <th>81</th>\n",
       "      <td>70</td>\n",
       "      <td>w81</td>\n",
       "      <td>1000.0</td>\n",
       "      <td>y</td>\n",
       "    </tr>\n",
       "  </tbody>\n",
       "</table>\n",
       "</div>"
      ],
      "text/plain": [
       "    waveNum waveName  stimInt notes\n",
       "77       66      w77    600.0     y\n",
       "78       67      w78    800.0     y\n",
       "79       68      w79    800.0     y\n",
       "80       69      w80   1000.0     y\n",
       "81       70      w81   1000.0     y"
      ]
     },
     "execution_count": 100,
     "metadata": {},
     "output_type": "execute_result"
    }
   ],
   "source": [
    "#load excel file\n",
    "waveInfo = pd.read_excel('2016.10.19_Cell1.xlsx')\n",
    "waveInfo.index = list(range(12, 82, 1))\n",
    "waveInfo.tail()"
   ]
  },
  {
   "cell_type": "code",
   "execution_count": 105,
   "metadata": {
    "collapsed": false
   },
   "outputs": [],
   "source": [
    "rawData = igor.load('2016.10.19_YW')\n",
    "date = '2016.10.19'\n",
    "cellNum = 1\n",
    "age = 15"
   ]
  },
  {
   "cell_type": "code",
   "execution_count": 136,
   "metadata": {
    "collapsed": false
   },
   "outputs": [
    {
     "data": {
      "text/plain": [
       "[<igor.igorpy.Variables at 0x101a625c0>,\n",
       " <igor.igorpy.History at 0x1064f0160>,\n",
       " <igor.Wave peak1 data (1000)>,\n",
       " <igor.Wave series1 data (1000)>,\n",
       " <igor.Wave peak2 data (1000)>,\n",
       " <igor.Wave leak1 data (1000)>,\n",
       " <igor.Wave peak3 data (1000)>,\n",
       " <igor.Wave trial data (11573)>,\n",
       " <igor.Wave w1 data (1950)>,\n",
       " <igor.Wave w2 data (1950)>,\n",
       " <igor.Wave w3 data (25050)>,\n",
       " <igor.Wave w4 data (11563)>,\n",
       " <igor.Wave w5 data (11563)>,\n",
       " <igor.Wave w6 data (11563)>,\n",
       " <igor.Wave w7 data (11563)>,\n",
       " <igor.Wave w8 data (11563)>,\n",
       " <igor.Wave w9 data (11573)>,\n",
       " <igor.Wave w10 data (11563)>,\n",
       " <igor.Wave w11 data (11573)>,\n",
       " <igor.Wave w12 data (11563)>,\n",
       " <igor.Wave w13 data (11573)>,\n",
       " <igor.Wave w14 data (11563)>,\n",
       " <igor.Wave w15 data (11573)>,\n",
       " <igor.Wave w16 data (11563)>,\n",
       " <igor.Wave w17 data (11573)>,\n",
       " <igor.Wave w18 data (11563)>,\n",
       " <igor.Wave w19 data (11573)>,\n",
       " <igor.Wave w20 data (34074)>,\n",
       " <igor.Wave w21 data (54073)>,\n",
       " <igor.Wave w22 data (11563)>,\n",
       " <igor.Wave w23 data (11573)>,\n",
       " <igor.Wave w24 data (11563)>,\n",
       " <igor.Wave w25 data (11573)>,\n",
       " <igor.Wave w26 data (11563)>,\n",
       " <igor.Wave w27 data (11573)>,\n",
       " <igor.Wave w28 data (11563)>,\n",
       " <igor.Wave w29 data (11573)>,\n",
       " <igor.Wave w30 data (11563)>,\n",
       " <igor.Wave w31 data (11573)>,\n",
       " <igor.Wave w32 data (11563)>,\n",
       " <igor.Wave w33 data (11573)>,\n",
       " <igor.Wave w34 data (11563)>,\n",
       " <igor.Wave w35 data (11573)>,\n",
       " <igor.Wave w36 data (11563)>,\n",
       " <igor.Wave w37 data (11573)>,\n",
       " <igor.Wave w38 data (11563)>,\n",
       " <igor.Wave w39 data (11573)>,\n",
       " <igor.Wave w40 data (11563)>,\n",
       " <igor.Wave w41 data (11573)>,\n",
       " <igor.Wave w42 data (11563)>,\n",
       " <igor.Wave w43 data (11573)>,\n",
       " <igor.Wave w44 data (11563)>,\n",
       " <igor.Wave w45 data (11573)>,\n",
       " <igor.Wave w46 data (11563)>,\n",
       " <igor.Wave w47 data (11573)>,\n",
       " <igor.Wave w48 data (11563)>,\n",
       " <igor.Wave w49 data (11573)>,\n",
       " <igor.Wave w50 data (11563)>,\n",
       " <igor.Wave w51 data (11573)>,\n",
       " <igor.Wave w52 data (11563)>,\n",
       " <igor.Wave w53 data (11573)>,\n",
       " <igor.Wave w54 data (11563)>,\n",
       " <igor.Wave w55 data (11573)>,\n",
       " <igor.Wave w56 data (11563)>,\n",
       " <igor.Wave w57 data (11573)>,\n",
       " <igor.Wave w58 data (11563)>,\n",
       " <igor.Wave w59 data (11573)>,\n",
       " <igor.Wave w60 data (11563)>,\n",
       " <igor.Wave w61 data (11573)>,\n",
       " <igor.Wave w62 data (11563)>,\n",
       " <igor.Wave w63 data (11573)>,\n",
       " <igor.Wave w64 data (11563)>,\n",
       " <igor.Wave w65 data (11573)>,\n",
       " <igor.Wave w66 data (11563)>,\n",
       " <igor.Wave w67 data (11573)>,\n",
       " <igor.Wave w68 data (11563)>,\n",
       " <igor.Wave w69 data (11573)>,\n",
       " <igor.Wave w70 data (11563)>,\n",
       " <igor.Wave w71 data (11573)>,\n",
       " <igor.Wave w72 data (11563)>,\n",
       " <igor.Wave w73 data (11573)>,\n",
       " <igor.Wave w74 data (11563)>,\n",
       " <igor.Wave w75 data (11573)>,\n",
       " <igor.Wave w76 data (11563)>,\n",
       " <igor.Wave w77 data (11573)>,\n",
       " <igor.Wave w78 data (11563)>,\n",
       " <igor.Wave w79 data (11573)>,\n",
       " <igor.Wave w80 data (11563)>,\n",
       " <igor.Wave w81 data (11573)>,\n",
       " <igor.Wave w82 data (1950)>,\n",
       " <igor.Wave w83 data (25050)>,\n",
       " <igor.Wave w84 data (11563)>,\n",
       " <igor.Wave w85 data (11563)>,\n",
       " <igor.Wave w86 data (11563)>,\n",
       " <igor.Wave w87 data (11563)>,\n",
       " <igor.Wave w88 data (11563)>,\n",
       " <igor.Wave w89 data (11563)>,\n",
       " <igor.Wave w90 data (11563)>,\n",
       " <igor.Wave w91 data (11563)>,\n",
       " <igor.Wave w92 data (11563)>,\n",
       " <igor.Wave w93 data (11563)>,\n",
       " <igor.Wave w94 data (11563)>,\n",
       " <igor.Wave w95 data (11563)>,\n",
       " <igor.Wave w96 data (11563)>,\n",
       " <igor.Wave w97 data (11563)>,\n",
       " <igor.Wave w98 data (11563)>,\n",
       " <igor.Wave w99 data (11563)>,\n",
       " <igor.Wave w100 data (11563)>,\n",
       " <igor.Wave w101 data (11563)>,\n",
       " <igor.Wave w102 data (11563)>,\n",
       " <igor.Wave w103 data (11563)>,\n",
       " <igor.Wave w104 data (11563)>,\n",
       " <igor.Wave w105 data (11563)>,\n",
       " <igor.Wave w106 data (11563)>,\n",
       " <igor.Wave w107 data (11563)>,\n",
       " <igor.Wave w108 data (11563)>,\n",
       " <igor.Wave w109 data (11563)>,\n",
       " <igor.Wave w110 data (11573)>,\n",
       " <igor.Wave w111 data (11563)>,\n",
       " <igor.Wave w112 data (11563)>,\n",
       " <igor.Wave w113 data (11573)>,\n",
       " <igor.Wave w114 data (11563)>,\n",
       " <igor.Wave w115 data (11563)>,\n",
       " <igor.Wave w116 data (11573)>,\n",
       " <igor.Wave w117 data (11563)>,\n",
       " <igor.Wave w118 data (11573)>,\n",
       " <igor.Wave w119 data (11563)>,\n",
       " <igor.Wave w120 data (11573)>,\n",
       " <igor.Wave w121 data (11563)>,\n",
       " <igor.Wave w122 data (11573)>,\n",
       " <igor.Wave w123 data (4630)>,\n",
       " <igor.Wave w124 data (11563)>,\n",
       " <igor.Wave w125 data (11563)>,\n",
       " <igor.Wave w126 data (11563)>,\n",
       " <igor.Wave w127 data (11563)>,\n",
       " <igor.Wave w128 data (11563)>,\n",
       " <igor.Wave w129 data (11573)>,\n",
       " <igor.Wave w130 data (11563)>,\n",
       " <igor.Wave w131 data (11563)>,\n",
       " <igor.Wave w132 data (11563)>,\n",
       " <igor.Wave w133 data (11563)>,\n",
       " <igor.Wave w134 data (11563)>,\n",
       " <igor.Wave w135 data (11563)>,\n",
       " <igor.Wave w136 data (11563)>,\n",
       " <igor.Wave w137 data (11563)>,\n",
       " <igor.Wave w138 data (11563)>,\n",
       " <igor.Wave w139 data (11573)>,\n",
       " <igor.Wave w140 data (11563)>,\n",
       " <igor.Wave w141 data (11563)>,\n",
       " <igor.Wave w142 data (11563)>,\n",
       " <igor.Wave w143 data (11563)>,\n",
       " <igor.Wave w144 data (11563)>,\n",
       " <igor.Wave w145 data (11563)>,\n",
       " <igor.Wave w146 data (11563)>,\n",
       " <igor.Wave w147 data (11563)>,\n",
       " <igor.Wave w148 data (1950)>,\n",
       " <igor.Wave w149 data (25050)>,\n",
       " <igor.Wave w150 data (11563)>,\n",
       " <igor.Wave w151 data (11563)>,\n",
       " <igor.Wave w152 data (11563)>,\n",
       " <igor.Wave w153 data (11563)>,\n",
       " <igor.Wave w154 data (11563)>,\n",
       " <igor.Wave w155 data (11563)>,\n",
       " <igor.Wave w156 data (11563)>,\n",
       " <igor.igorpy.Recreation at 0x109bc9e80>,\n",
       " <igor.igorpy.GetHistory at 0x109bc9e10>,\n",
       " <igor.igorpy.Procedure at 0x109bc9d68>]"
      ]
     },
     "execution_count": 136,
     "metadata": {},
     "output_type": "execute_result"
    }
   ],
   "source": [
    "type(rawData)\n",
    "igor.Folder.format(rawData)\n",
    "rawData.children"
   ]
  },
  {
   "cell_type": "code",
   "execution_count": 116,
   "metadata": {
    "collapsed": false
   },
   "outputs": [
    {
     "ename": "AttributeError",
     "evalue": "'Folder' object has no attribute 'trace'",
     "output_type": "error",
     "traceback": [
      "\u001b[0;31m---------------------------------------------------------------------------\u001b[0m",
      "\u001b[0;31mAttributeError\u001b[0m                            Traceback (most recent call last)",
      "\u001b[0;32m<ipython-input-116-aae5f4f27404>\u001b[0m in \u001b[0;36m<module>\u001b[0;34m()\u001b[0m\n\u001b[1;32m     13\u001b[0m \u001b[0;31m#split data based on times\u001b[0m\u001b[0;34m\u001b[0m\u001b[0;34m\u001b[0m\u001b[0m\n\u001b[1;32m     14\u001b[0m \u001b[0;32mfor\u001b[0m \u001b[0mtrace\u001b[0m \u001b[0;32min\u001b[0m \u001b[0mrawData\u001b[0m \u001b[0;34m:\u001b[0m\u001b[0;34m\u001b[0m\u001b[0m\n\u001b[0;32m---> 15\u001b[0;31m     \u001b[0msomeTrace\u001b[0m \u001b[0;34m=\u001b[0m \u001b[0mrawData\u001b[0m\u001b[0;34m.\u001b[0m\u001b[0mtrace\u001b[0m\u001b[0;34m\u001b[0m\u001b[0m\n\u001b[0m\u001b[1;32m     16\u001b[0m     \u001b[0mcurrent\u001b[0m \u001b[0;34m=\u001b[0m \u001b[0msomeTrace\u001b[0m\u001b[0;34m.\u001b[0m\u001b[0mdata\u001b[0m\u001b[0;34m\u001b[0m\u001b[0m\n\u001b[1;32m     17\u001b[0m     \u001b[0mwave\u001b[0m \u001b[0;34m=\u001b[0m \u001b[0mpd\u001b[0m\u001b[0;34m.\u001b[0m\u001b[0mDataFrame\u001b[0m\u001b[0;34m(\u001b[0m\u001b[0mnp\u001b[0m\u001b[0;34m.\u001b[0m\u001b[0mcolumn_stack\u001b[0m\u001b[0;34m(\u001b[0m\u001b[0mtime\u001b[0m\u001b[0;34m,\u001b[0m \u001b[0mcurrent\u001b[0m\u001b[0;34m)\u001b[0m\u001b[0;34m)\u001b[0m\u001b[0;34m\u001b[0m\u001b[0m\n",
      "\u001b[0;31mAttributeError\u001b[0m: 'Folder' object has no attribute 'trace'"
     ]
    }
   ],
   "source": [
    "#write function to do this automatically for all waves in rawData\n",
    "#Store output in pd data frame\n",
    "someWave = rawData.w70\n",
    "time = someWave.axis[0][::-1] # pull time data and reverse it\n",
    "current = someWave.data\n",
    "wave = np.column_stack((time, current))\n",
    "pd_w70 = pd.DataFrame(wave)\n",
    "pd_w70.columns = ['sec', 'pA']\n",
    "\n",
    "#may not be necessary in fxn\n",
    "w70_info = waveInfo.loc[[70], :]\n",
    "#print(w70_info)\n",
    "#split data based on times\n",
    "for trace in rawData :\n",
    "    someTrace = rawData.trace\n",
    "    current = someTrace.data\n",
    "    wave = pd.DataFrame(np.column_stack(time, current))\n",
    "    wave.columns = ['sec', 'pA']\n",
    "    print(wave)"
   ]
  },
  {
   "cell_type": "code",
   "execution_count": 80,
   "metadata": {
    "collapsed": false
   },
   "outputs": [
    {
     "data": {
      "image/png": "[encoded data removed]",
      "text/plain": [
       "<matplotlib.figure.Figure at 0x1086476d8>"
      ]
     },
     "metadata": {},
     "output_type": "display_data"
    }
   ],
   "source": [
    "plt.plot(pd_wave['sec'], pd_wave['pA'])\n",
    "plt.show()"
   ]
  },
  {
   "cell_type": "code",
   "execution_count": null,
   "metadata": {
    "collapsed": true
   },
   "outputs": [],
   "source": []
  }
 ],
 "metadata": {
  "kernelspec": {
   "display_name": "Python 3",
   "language": "python",
   "name": "python3"
  },
  "language_info": {
   "codemirror_mode": {
    "name": "ipython",
    "version": 3
   },
   "file_extension": ".py",
   "mimetype": "text/x-python",
   "name": "python",
   "nbconvert_exporter": "python",
   "pygments_lexer": "ipython3",
   "version": "3.5.2"
  }
 },
 "nbformat": 4,
 "nbformat_minor": 1
}
