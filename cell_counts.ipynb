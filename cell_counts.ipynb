{
 "cells": [
  {
   "cell_type": "code",
   "execution_count": 1,
   "metadata": {
    "collapsed": true
   },
   "outputs": [],
   "source": [
    "import pandas as pd"
   ]
  },
  {
   "cell_type": "code",
   "execution_count": 2,
   "metadata": {
    "collapsed": false
   },
   "outputs": [
    {
     "data": {
      "text/html": [
       "<div>\n",
       "<table border=\"1\" class=\"dataframe\">\n",
       "  <thead>\n",
       "    <tr style=\"text-align: right;\">\n",
       "      <th></th>\n",
       "      <th>date</th>\n",
       "      <th>age</th>\n",
       "      <th>cell_num</th>\n",
       "      <th>exp_descr</th>\n",
       "    </tr>\n",
       "  </thead>\n",
       "  <tbody>\n",
       "    <tr>\n",
       "      <th>69</th>\n",
       "      <td>2017-04-03</td>\n",
       "      <td>15</td>\n",
       "      <td>3.0</td>\n",
       "      <td>full</td>\n",
       "    </tr>\n",
       "    <tr>\n",
       "      <th>70</th>\n",
       "      <td>2017-04-04</td>\n",
       "      <td>15</td>\n",
       "      <td>1.0</td>\n",
       "      <td>partial</td>\n",
       "    </tr>\n",
       "    <tr>\n",
       "      <th>71</th>\n",
       "      <td>2017-04-04</td>\n",
       "      <td>15</td>\n",
       "      <td>2.0</td>\n",
       "      <td>full</td>\n",
       "    </tr>\n",
       "    <tr>\n",
       "      <th>72</th>\n",
       "      <td>2017-04-04</td>\n",
       "      <td>15</td>\n",
       "      <td>3.0</td>\n",
       "      <td>full</td>\n",
       "    </tr>\n",
       "    <tr>\n",
       "      <th>73</th>\n",
       "      <td>2017-04-04</td>\n",
       "      <td>15</td>\n",
       "      <td>4.0</td>\n",
       "      <td>full</td>\n",
       "    </tr>\n",
       "  </tbody>\n",
       "</table>\n",
       "</div>"
      ],
      "text/plain": [
       "         date  age  cell_num exp_descr\n",
       "69 2017-04-03   15       3.0      full\n",
       "70 2017-04-04   15       1.0   partial\n",
       "71 2017-04-04   15       2.0      full\n",
       "72 2017-04-04   15       3.0      full\n",
       "73 2017-04-04   15       4.0      full"
      ]
     },
     "execution_count": 2,
     "metadata": {},
     "output_type": "execute_result"
    }
   ],
   "source": [
    "cells = pd.read_csv('cell_counts.csv', dtype = {'date':str, 'age':int, 'cell_num':float, 'exp_descr':str},\n",
    "                   parse_dates = ['date'])\n",
    "cells.tail()"
   ]
  },
  {
   "cell_type": "code",
   "execution_count": 3,
   "metadata": {
    "collapsed": false
   },
   "outputs": [],
   "source": [
    "cells.loc[74] = ('2017-04-05', 16, 1, 'full')\n",
    "cells.loc[75] = ('2017-04-05', 16, 2, 'full')"
   ]
  },
  {
   "cell_type": "code",
   "execution_count": 4,
   "metadata": {
    "collapsed": false
   },
   "outputs": [
    {
     "data": {
      "text/html": [
       "<div>\n",
       "<table border=\"1\" class=\"dataframe\">\n",
       "  <thead>\n",
       "    <tr style=\"text-align: right;\">\n",
       "      <th></th>\n",
       "      <th>date</th>\n",
       "      <th>age</th>\n",
       "      <th>cell_num</th>\n",
       "      <th>exp_descr</th>\n",
       "    </tr>\n",
       "  </thead>\n",
       "  <tbody>\n",
       "    <tr>\n",
       "      <th>71</th>\n",
       "      <td>2017-04-04 00:00:00</td>\n",
       "      <td>15</td>\n",
       "      <td>2.0</td>\n",
       "      <td>full</td>\n",
       "    </tr>\n",
       "    <tr>\n",
       "      <th>72</th>\n",
       "      <td>2017-04-04 00:00:00</td>\n",
       "      <td>15</td>\n",
       "      <td>3.0</td>\n",
       "      <td>full</td>\n",
       "    </tr>\n",
       "    <tr>\n",
       "      <th>73</th>\n",
       "      <td>2017-04-04 00:00:00</td>\n",
       "      <td>15</td>\n",
       "      <td>4.0</td>\n",
       "      <td>full</td>\n",
       "    </tr>\n",
       "    <tr>\n",
       "      <th>74</th>\n",
       "      <td>2017-04-05</td>\n",
       "      <td>16</td>\n",
       "      <td>1.0</td>\n",
       "      <td>full</td>\n",
       "    </tr>\n",
       "    <tr>\n",
       "      <th>75</th>\n",
       "      <td>2017-04-05</td>\n",
       "      <td>16</td>\n",
       "      <td>2.0</td>\n",
       "      <td>full</td>\n",
       "    </tr>\n",
       "  </tbody>\n",
       "</table>\n",
       "</div>"
      ],
      "text/plain": [
       "                   date  age  cell_num exp_descr\n",
       "71  2017-04-04 00:00:00   15       2.0      full\n",
       "72  2017-04-04 00:00:00   15       3.0      full\n",
       "73  2017-04-04 00:00:00   15       4.0      full\n",
       "74           2017-04-05   16       1.0      full\n",
       "75           2017-04-05   16       2.0      full"
      ]
     },
     "execution_count": 4,
     "metadata": {},
     "output_type": "execute_result"
    }
   ],
   "source": [
    "cells.tail()"
   ]
  },
  {
   "cell_type": "code",
   "execution_count": 5,
   "metadata": {
    "collapsed": false
   },
   "outputs": [],
   "source": [
    "cells.to_csv('cell_counts.csv', index = False, date_format='%Y%m%d')"
   ]
  },
  {
   "cell_type": "code",
   "execution_count": 6,
   "metadata": {
    "collapsed": false
   },
   "outputs": [
    {
     "data": {
      "text/plain": [
       "full          57\n",
       "max            8\n",
       "partial        5\n",
       "borderline     3\n",
       "inh            3\n",
       "Name: exp_descr, dtype: int64"
      ]
     },
     "execution_count": 6,
     "metadata": {},
     "output_type": "execute_result"
    }
   ],
   "source": [
    "cells['exp_descr'].value_counts()"
   ]
  },
  {
   "cell_type": "code",
   "execution_count": 7,
   "metadata": {
    "collapsed": false
   },
   "outputs": [
    {
     "data": {
      "text/plain": [
       "age  exp_descr \n",
       "13   full           1\n",
       "14   full           3\n",
       "     borderline     1\n",
       "     inh            1\n",
       "15   full          30\n",
       "     max            6\n",
       "     partial        2\n",
       "     borderline     1\n",
       "     inh            1\n",
       "16   full          18\n",
       "     partial        3\n",
       "     max            1\n",
       "17   full           2\n",
       "     max            1\n",
       "18   inh            1\n",
       "20   full           2\n",
       "21   full           1\n",
       "22   borderline     1\n",
       "Name: exp_descr, dtype: int64"
      ]
     },
     "execution_count": 7,
     "metadata": {},
     "output_type": "execute_result"
    }
   ],
   "source": [
    "cells.groupby('age')['exp_descr'].value_counts()"
   ]
  },
  {
   "cell_type": "code",
   "execution_count": 8,
   "metadata": {
    "collapsed": false
   },
   "outputs": [
    {
     "data": {
      "text/plain": [
       "48"
      ]
     },
     "execution_count": 8,
     "metadata": {},
     "output_type": "execute_result"
    }
   ],
   "source": [
    "p15_p16 = cells.ix[((cells['age'] == 15) | (cells['age'] == 16)) & (cells['exp_descr'] == 'full')]\n",
    "len(p15_p16)"
   ]
  },
  {
   "cell_type": "code",
   "execution_count": 9,
   "metadata": {
    "collapsed": false
   },
   "outputs": [],
   "source": [
    "p15_p16.to_csv('p15_p16_cells.csv', index = False, date_format = '%Y%m%d')"
   ]
  }
 ],
 "metadata": {
  "kernelspec": {
   "display_name": "Python 3",
   "language": "python",
   "name": "python3"
  },
  "language_info": {
   "codemirror_mode": {
    "name": "ipython",
    "version": 3
   },
   "file_extension": ".py",
   "mimetype": "text/x-python",
   "name": "python",
   "nbconvert_exporter": "python",
   "pygments_lexer": "ipython3",
   "version": "3.6.0"
  }
 },
 "nbformat": 4,
 "nbformat_minor": 2
}
