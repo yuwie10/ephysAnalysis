{
 "cells": [
  {
   "cell_type": "code",
   "execution_count": 1,
   "metadata": {
    "collapsed": true
   },
   "outputs": [],
   "source": [
    "import pandas as pd"
   ]
  },
  {
   "cell_type": "code",
   "execution_count": 2,
   "metadata": {
    "collapsed": false
   },
   "outputs": [
    {
     "data": {
      "text/html": [
       "<div>\n",
       "<table border=\"1\" class=\"dataframe\">\n",
       "  <thead>\n",
       "    <tr style=\"text-align: right;\">\n",
       "      <th></th>\n",
       "      <th>date</th>\n",
       "      <th>age</th>\n",
       "      <th>cell_num</th>\n",
       "      <th>exp_descr</th>\n",
       "    </tr>\n",
       "  </thead>\n",
       "  <tbody>\n",
       "    <tr>\n",
       "      <th>79</th>\n",
       "      <td>2017-04-10</td>\n",
       "      <td>15</td>\n",
       "      <td>1.0</td>\n",
       "      <td>full</td>\n",
       "    </tr>\n",
       "    <tr>\n",
       "      <th>80</th>\n",
       "      <td>2017-04-10</td>\n",
       "      <td>15</td>\n",
       "      <td>2.0</td>\n",
       "      <td>full</td>\n",
       "    </tr>\n",
       "    <tr>\n",
       "      <th>81</th>\n",
       "      <td>2017-04-10</td>\n",
       "      <td>15</td>\n",
       "      <td>3.0</td>\n",
       "      <td>full</td>\n",
       "    </tr>\n",
       "    <tr>\n",
       "      <th>82</th>\n",
       "      <td>2017-04-10</td>\n",
       "      <td>15</td>\n",
       "      <td>4.0</td>\n",
       "      <td>full</td>\n",
       "    </tr>\n",
       "    <tr>\n",
       "      <th>83</th>\n",
       "      <td>2017-04-10</td>\n",
       "      <td>15</td>\n",
       "      <td>5.0</td>\n",
       "      <td>full</td>\n",
       "    </tr>\n",
       "  </tbody>\n",
       "</table>\n",
       "</div>"
      ],
      "text/plain": [
       "         date  age  cell_num exp_descr\n",
       "79 2017-04-10   15       1.0      full\n",
       "80 2017-04-10   15       2.0      full\n",
       "81 2017-04-10   15       3.0      full\n",
       "82 2017-04-10   15       4.0      full\n",
       "83 2017-04-10   15       5.0      full"
      ]
     },
     "execution_count": 2,
     "metadata": {},
     "output_type": "execute_result"
    }
   ],
   "source": [
    "cells = pd.read_csv('cell_counts.csv', dtype = {'date':str, 'age':int, 'cell_num':float, 'exp_descr':str},\n",
    "                   parse_dates = ['date'])\n",
    "cells.tail()"
   ]
  },
  {
   "cell_type": "code",
   "execution_count": 3,
   "metadata": {
    "collapsed": false
   },
   "outputs": [],
   "source": [
    "cells.loc[84] = ('2017-04-11', 15, 1.1, 'full')\n",
    "cells.loc[85] = ('2017-04-11', 15, 1.2, 'full')\n",
    "cells.loc[86] = ('2017-04-11', 15, 1.3, 'full')\n",
    "cells.loc[87] = ('2017-04-11', 15, 2.1, 'partial')\n",
    "cells.loc[88] = ('2017-04-11', 15, 2.2, 'full')\n",
    "cells.loc[89] = ('2017-04-11', 15, 2.3, 'full')"
   ]
  },
  {
   "cell_type": "code",
   "execution_count": 4,
   "metadata": {
    "collapsed": false
   },
   "outputs": [
    {
     "data": {
      "text/html": [
       "<div>\n",
       "<table border=\"1\" class=\"dataframe\">\n",
       "  <thead>\n",
       "    <tr style=\"text-align: right;\">\n",
       "      <th></th>\n",
       "      <th>date</th>\n",
       "      <th>age</th>\n",
       "      <th>cell_num</th>\n",
       "      <th>exp_descr</th>\n",
       "    </tr>\n",
       "  </thead>\n",
       "  <tbody>\n",
       "    <tr>\n",
       "      <th>85</th>\n",
       "      <td>2017-04-11</td>\n",
       "      <td>15</td>\n",
       "      <td>1.2</td>\n",
       "      <td>full</td>\n",
       "    </tr>\n",
       "    <tr>\n",
       "      <th>86</th>\n",
       "      <td>2017-04-11</td>\n",
       "      <td>15</td>\n",
       "      <td>1.3</td>\n",
       "      <td>full</td>\n",
       "    </tr>\n",
       "    <tr>\n",
       "      <th>87</th>\n",
       "      <td>2017-04-11</td>\n",
       "      <td>15</td>\n",
       "      <td>2.1</td>\n",
       "      <td>partial</td>\n",
       "    </tr>\n",
       "    <tr>\n",
       "      <th>88</th>\n",
       "      <td>2017-04-11</td>\n",
       "      <td>15</td>\n",
       "      <td>2.2</td>\n",
       "      <td>full</td>\n",
       "    </tr>\n",
       "    <tr>\n",
       "      <th>89</th>\n",
       "      <td>2017-04-11</td>\n",
       "      <td>15</td>\n",
       "      <td>2.3</td>\n",
       "      <td>full</td>\n",
       "    </tr>\n",
       "  </tbody>\n",
       "</table>\n",
       "</div>"
      ],
      "text/plain": [
       "          date  age  cell_num exp_descr\n",
       "85  2017-04-11   15       1.2      full\n",
       "86  2017-04-11   15       1.3      full\n",
       "87  2017-04-11   15       2.1   partial\n",
       "88  2017-04-11   15       2.2      full\n",
       "89  2017-04-11   15       2.3      full"
      ]
     },
     "execution_count": 4,
     "metadata": {},
     "output_type": "execute_result"
    }
   ],
   "source": [
    "cells.tail()"
   ]
  },
  {
   "cell_type": "code",
   "execution_count": 5,
   "metadata": {
    "collapsed": false
   },
   "outputs": [],
   "source": [
    "cells.to_csv('cell_counts.csv', index = False, date_format='%Y%m%d')"
   ]
  },
  {
   "cell_type": "code",
   "execution_count": 6,
   "metadata": {
    "collapsed": false
   },
   "outputs": [
    {
     "data": {
      "text/plain": [
       "full          69\n",
       "max            8\n",
       "partial        7\n",
       "inh            3\n",
       "borderline     3\n",
       "Name: exp_descr, dtype: int64"
      ]
     },
     "execution_count": 6,
     "metadata": {},
     "output_type": "execute_result"
    }
   ],
   "source": [
    "cells['exp_descr'].value_counts()"
   ]
  },
  {
   "cell_type": "code",
   "execution_count": 7,
   "metadata": {
    "collapsed": false
   },
   "outputs": [
    {
     "data": {
      "text/plain": [
       "age  exp_descr \n",
       "13   full           1\n",
       "14   full           3\n",
       "     borderline     1\n",
       "     inh            1\n",
       "15   full          42\n",
       "     max            6\n",
       "     partial        4\n",
       "     borderline     1\n",
       "     inh            1\n",
       "16   full          18\n",
       "     partial        3\n",
       "     max            1\n",
       "17   full           2\n",
       "     max            1\n",
       "18   inh            1\n",
       "20   full           2\n",
       "21   full           1\n",
       "22   borderline     1\n",
       "Name: exp_descr, dtype: int64"
      ]
     },
     "execution_count": 7,
     "metadata": {},
     "output_type": "execute_result"
    }
   ],
   "source": [
    "cells.groupby('age')['exp_descr'].value_counts()"
   ]
  },
  {
   "cell_type": "code",
   "execution_count": 8,
   "metadata": {
    "collapsed": false
   },
   "outputs": [
    {
     "data": {
      "text/plain": [
       "60"
      ]
     },
     "execution_count": 8,
     "metadata": {},
     "output_type": "execute_result"
    }
   ],
   "source": [
    "p15_p16 = cells.ix[((cells['age'] == 15) | (cells['age'] == 16)) & (cells['exp_descr'] == 'full')]\n",
    "len(p15_p16)"
   ]
  },
  {
   "cell_type": "code",
   "execution_count": 9,
   "metadata": {
    "collapsed": false
   },
   "outputs": [],
   "source": [
    "p15_p16.to_csv('p15_p16_cells.csv', index = False, date_format = '%Y%m%d')"
   ]
  }
 ],
 "metadata": {
  "kernelspec": {
   "display_name": "Python 3",
   "language": "python",
   "name": "python3"
  },
  "language_info": {
   "codemirror_mode": {
    "name": "ipython",
    "version": 3
   },
   "file_extension": ".py",
   "mimetype": "text/x-python",
   "name": "python",
   "nbconvert_exporter": "python",
   "pygments_lexer": "ipython3",
   "version": "3.6.0"
  }
 },
 "nbformat": 4,
 "nbformat_minor": 2
}
